{
 "cells": [
  {
   "cell_type": "markdown",
   "metadata": {},
   "source": [
    "# Basic Math Operations\n",
    "\n",
    "You can use Python as a calculator to perform mathematical operations like addition, subtraction, multiplication, and division.\n",
    "\n",
    "| Operator\t    |          Description                   | Syntax  | Example | Result\n",
    "|---------------|----------------------------------------|---------|---------|-------\n",
    "| +             | Addition                               | x + y   | 2 + 2   | 4\n",
    "| -             | Subtraction                            | x - y   | 5 - 3   | 2\n",
    "| *             | Multiplication                         | x * y   | 3 * 4   | 12\n",
    "| /             | Division (float)                       | x / y   | 3 / 4   | 0.75\n",
    "| //            | Division (floor)                       | x // y  | 3 // 4  | 0\n",
    "| %             | Modulus (remainder)                    | x % y   | 5 % 3   | 2\n",
    "| **            | Exponential                            | x ** y  | 2 ** 3  | 8"
   ]
  },
  {
   "cell_type": "code",
   "execution_count": null,
   "metadata": {},
   "outputs": [],
   "source": []
  }
 ],
 "metadata": {
  "kernelspec": {
   "display_name": "Python 3",
   "language": "python",
   "name": "python3"
  },
  "language_info": {
   "codemirror_mode": {
    "name": "ipython",
    "version": 3
   },
   "file_extension": ".py",
   "mimetype": "text/x-python",
   "name": "python",
   "nbconvert_exporter": "python",
   "pygments_lexer": "ipython3",
   "version": "3.6.7"
  }
 },
 "nbformat": 4,
 "nbformat_minor": 2
}
