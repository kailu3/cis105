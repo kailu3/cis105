{
 "cells": [
  {
   "cell_type": "code",
   "execution_count": 1,
   "metadata": {},
   "outputs": [],
   "source": [
    "# TODO: Create variable guide"
   ]
  },
  {
   "cell_type": "markdown",
   "metadata": {},
   "source": [
    "## Assigning Values to Variables\n",
    "\n",
    "Sometimes you may want to print a variable to see its contents. Variables are essentially reserved memory locations to store values. When you **assign** some value to a variable using `=`, the operand to the left of `=` is the name of the variable and the operand\n",
    "to the right of the `=` operator is the value stored in the variable. For instance,"
   ]
  },
  {
   "cell_type": "markdown",
   "metadata": {},
   "source": [
    "## Passing Variables to Strings\n",
    "\n",
    "You may want to print a sentence with a variable at times. Some ways to do this are"
   ]
  },
  {
   "cell_type": "code",
   "execution_count": 9,
   "metadata": {},
   "outputs": [
    {
     "name": "stdout",
     "output_type": "stream",
     "text": [
      "Apples are 12 dollars a dozen\n"
     ]
    }
   ],
   "source": [
    "apple = 12\n",
    "print('Apples are', apple, 'dollars a dozen')"
   ]
  },
  {
   "cell_type": "markdown",
   "metadata": {},
   "source": [
    "**Note:** When you concatenate Strings (text enclosed in '') together, all components must be of String Type. Here, I used\n",
    "the `str()` function to cast the integer 12 into the String `12`. More on types and casting later.\n",
    "\n",
    "\n",
    "*My usual way of passing variables into a String is to use formatting:*"
   ]
  },
  {
   "cell_type": "code",
   "execution_count": 5,
   "metadata": {},
   "outputs": [
    {
     "name": "stdout",
     "output_type": "stream",
     "text": [
      "apples are 12 dollars a dozen\n"
     ]
    }
   ],
   "source": [
    "print('apples are {} dollars a dozen'.format(apple))"
   ]
  },
  {
   "cell_type": "markdown",
   "metadata": {},
   "source": [
    "In Python 3.6, there was an added string formatting approach called `f-strings`. This is another way of formatting\n",
    "strings that I am still getting used to using more of. Here's a simple example"
   ]
  },
  {
   "cell_type": "code",
   "execution_count": 6,
   "metadata": {},
   "outputs": [
    {
     "name": "stdout",
     "output_type": "stream",
     "text": [
      "apples are 12 dollars a dozen\n"
     ]
    }
   ],
   "source": [
    "print(f'apples are {apple} dollars a dozen')"
   ]
  },
  {
   "cell_type": "markdown",
   "metadata": {},
   "source": [
    "You can also do inline arithmetic with this formatting approach!"
   ]
  },
  {
   "cell_type": "code",
   "execution_count": 7,
   "metadata": {},
   "outputs": [
    {
     "name": "stdout",
     "output_type": "stream",
     "text": [
      "Five plus ten is 15 and not 30.\n"
     ]
    }
   ],
   "source": [
    "a = 5\n",
    "b = 10\n",
    "print(f'Five plus ten is {a + b} and not {2 * (a + b)}.')"
   ]
  },
  {
   "cell_type": "markdown",
   "metadata": {},
   "source": [
    "> As you can see, there are multiple ways to pass variables to a String in Python. Similarly, there are many, many ways\n",
    "to do most things in Python. These snippets in this book are just how I approach Python. You should not be limited by\n",
    "them!"
   ]
  },
  {
   "cell_type": "code",
   "execution_count": null,
   "metadata": {},
   "outputs": [],
   "source": []
  }
 ],
 "metadata": {
  "kernelspec": {
   "display_name": "Python 3",
   "language": "python",
   "name": "python3"
  },
  "language_info": {
   "codemirror_mode": {
    "name": "ipython",
    "version": 3
   },
   "file_extension": ".py",
   "mimetype": "text/x-python",
   "name": "python",
   "nbconvert_exporter": "python",
   "pygments_lexer": "ipython3",
   "version": "3.6.7"
  }
 },
 "nbformat": 4,
 "nbformat_minor": 2
}
