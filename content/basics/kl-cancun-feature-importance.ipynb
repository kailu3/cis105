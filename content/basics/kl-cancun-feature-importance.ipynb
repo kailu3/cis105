{
 "cells": [
  {
   "cell_type": "code",
   "execution_count": 5,
   "metadata": {},
   "outputs": [],
   "source": [
    "%matplotlib inline\n",
    "import numpy as np\n",
    "import pandas as pd\n",
    "import matplotlib.pyplot as plt\n",
    "import seaborn as sns\n",
    "# import pandas_profiling\n",
    "import statsmodels.formula.api as smf"
   ]
  },
  {
   "cell_type": "code",
   "execution_count": 6,
   "metadata": {},
   "outputs": [],
   "source": [
    "cancun_variables = pd.read_csv('../data/processed/cancun_variables.csv')"
   ]
  },
  {
   "cell_type": "code",
   "execution_count": 7,
   "metadata": {},
   "outputs": [],
   "source": [
    "features = cancun_variables.drop(columns=['currency', 'url',])"
   ]
  },
  {
   "cell_type": "code",
   "execution_count": 8,
   "metadata": {},
   "outputs": [
    {
     "data": {
      "text/plain": [
       "(6669, 16)"
      ]
     },
     "execution_count": 8,
     "metadata": {},
     "output_type": "execute_result"
    }
   ],
   "source": [
    "features.shape"
   ]
  },
  {
   "cell_type": "code",
   "execution_count": 9,
   "metadata": {},
   "outputs": [
    {
     "data": {
      "text/html": [
       "<div>\n",
       "<style scoped>\n",
       "    .dataframe tbody tr th:only-of-type {\n",
       "        vertical-align: middle;\n",
       "    }\n",
       "\n",
       "    .dataframe tbody tr th {\n",
       "        vertical-align: top;\n",
       "    }\n",
       "\n",
       "    .dataframe thead th {\n",
       "        text-align: right;\n",
       "    }\n",
       "</style>\n",
       "<table border=\"1\" class=\"dataframe\">\n",
       "  <thead>\n",
       "    <tr style=\"text-align: right;\">\n",
       "      <th></th>\n",
       "      <th>accuracy</th>\n",
       "      <th>avg_rating</th>\n",
       "      <th>checkin</th>\n",
       "      <th>cleanliness</th>\n",
       "      <th>communication</th>\n",
       "      <th>guest_satisfication</th>\n",
       "      <th>host_reviews</th>\n",
       "      <th>location</th>\n",
       "      <th>monthly_price_factor</th>\n",
       "      <th>picture_count</th>\n",
       "      <th>price</th>\n",
       "      <th>response_rate</th>\n",
       "      <th>reviews_count</th>\n",
       "      <th>value</th>\n",
       "      <th>weekly_price_factor</th>\n",
       "      <th>listing_key</th>\n",
       "    </tr>\n",
       "  </thead>\n",
       "  <tbody>\n",
       "    <tr>\n",
       "      <th>0</th>\n",
       "      <td>10</td>\n",
       "      <td>4.74</td>\n",
       "      <td>10</td>\n",
       "      <td>9</td>\n",
       "      <td>10</td>\n",
       "      <td>95</td>\n",
       "      <td>311</td>\n",
       "      <td>10</td>\n",
       "      <td>0.88</td>\n",
       "      <td>19</td>\n",
       "      <td>22</td>\n",
       "      <td>100</td>\n",
       "      <td>50</td>\n",
       "      <td>10</td>\n",
       "      <td>0.88</td>\n",
       "      <td>20776319</td>\n",
       "    </tr>\n",
       "    <tr>\n",
       "      <th>1</th>\n",
       "      <td>10</td>\n",
       "      <td>4.93</td>\n",
       "      <td>10</td>\n",
       "      <td>10</td>\n",
       "      <td>10</td>\n",
       "      <td>99</td>\n",
       "      <td>147</td>\n",
       "      <td>10</td>\n",
       "      <td>0.85</td>\n",
       "      <td>22</td>\n",
       "      <td>28</td>\n",
       "      <td>100</td>\n",
       "      <td>108</td>\n",
       "      <td>10</td>\n",
       "      <td>0.90</td>\n",
       "      <td>16492050</td>\n",
       "    </tr>\n",
       "    <tr>\n",
       "      <th>2</th>\n",
       "      <td>10</td>\n",
       "      <td>4.72</td>\n",
       "      <td>10</td>\n",
       "      <td>9</td>\n",
       "      <td>10</td>\n",
       "      <td>94</td>\n",
       "      <td>1376</td>\n",
       "      <td>9</td>\n",
       "      <td>1.00</td>\n",
       "      <td>14</td>\n",
       "      <td>30</td>\n",
       "      <td>100</td>\n",
       "      <td>243</td>\n",
       "      <td>9</td>\n",
       "      <td>1.00</td>\n",
       "      <td>14266451</td>\n",
       "    </tr>\n",
       "  </tbody>\n",
       "</table>\n",
       "</div>"
      ],
      "text/plain": [
       "   accuracy  avg_rating  checkin  cleanliness  communication  \\\n",
       "0        10        4.74       10            9             10   \n",
       "1        10        4.93       10           10             10   \n",
       "2        10        4.72       10            9             10   \n",
       "\n",
       "   guest_satisfication  host_reviews  location  monthly_price_factor  \\\n",
       "0                   95           311        10                  0.88   \n",
       "1                   99           147        10                  0.85   \n",
       "2                   94          1376         9                  1.00   \n",
       "\n",
       "   picture_count  price  response_rate  reviews_count  value  \\\n",
       "0             19     22            100             50     10   \n",
       "1             22     28            100            108     10   \n",
       "2             14     30            100            243      9   \n",
       "\n",
       "   weekly_price_factor  listing_key  \n",
       "0                 0.88     20776319  \n",
       "1                 0.90     16492050  \n",
       "2                 1.00     14266451  "
      ]
     },
     "execution_count": 9,
     "metadata": {},
     "output_type": "execute_result"
    }
   ],
   "source": [
    "features.head(3)"
   ]
  },
  {
   "cell_type": "code",
   "execution_count": 10,
   "metadata": {},
   "outputs": [
    {
     "data": {
      "text/plain": [
       "count    6669.000000\n",
       "mean        3.148048\n",
       "std         2.235194\n",
       "min         0.000000\n",
       "25%         0.000000\n",
       "50%         4.600000\n",
       "75%         4.890000\n",
       "max         5.000000\n",
       "Name: avg_rating, dtype: float64"
      ]
     },
     "execution_count": 10,
     "metadata": {},
     "output_type": "execute_result"
    }
   ],
   "source": [
    "features.avg_rating.describe()"
   ]
  },
  {
   "cell_type": "code",
   "execution_count": 11,
   "metadata": {},
   "outputs": [
    {
     "data": {
      "text/plain": [
       "count    6669.000000\n",
       "mean       62.889639\n",
       "std        44.739948\n",
       "min         0.000000\n",
       "25%         0.000000\n",
       "50%        92.000000\n",
       "75%        98.000000\n",
       "max       100.000000\n",
       "Name: guest_satisfication, dtype: float64"
      ]
     },
     "execution_count": 11,
     "metadata": {},
     "output_type": "execute_result"
    }
   ],
   "source": [
    "features.guest_satisfication.describe()"
   ]
  },
  {
   "cell_type": "code",
   "execution_count": 2,
   "metadata": {},
   "outputs": [],
   "source": [
    "# I ended up choosing guest_satisfication as my main rating metric"
   ]
  },
  {
   "cell_type": "code",
   "execution_count": 12,
   "metadata": {},
   "outputs": [
    {
     "data": {
      "text/html": [
       "<div>\n",
       "<style scoped>\n",
       "    .dataframe tbody tr th:only-of-type {\n",
       "        vertical-align: middle;\n",
       "    }\n",
       "\n",
       "    .dataframe tbody tr th {\n",
       "        vertical-align: top;\n",
       "    }\n",
       "\n",
       "    .dataframe thead th {\n",
       "        text-align: right;\n",
       "    }\n",
       "</style>\n",
       "<table border=\"1\" class=\"dataframe\">\n",
       "  <thead>\n",
       "    <tr style=\"text-align: right;\">\n",
       "      <th></th>\n",
       "      <th>accuracy</th>\n",
       "      <th>avg_rating</th>\n",
       "      <th>checkin</th>\n",
       "      <th>cleanliness</th>\n",
       "      <th>communication</th>\n",
       "      <th>guest_satisfication</th>\n",
       "      <th>host_reviews</th>\n",
       "      <th>location</th>\n",
       "      <th>monthly_price_factor</th>\n",
       "      <th>picture_count</th>\n",
       "      <th>price</th>\n",
       "      <th>response_rate</th>\n",
       "      <th>reviews_count</th>\n",
       "      <th>value</th>\n",
       "      <th>weekly_price_factor</th>\n",
       "      <th>listing_key</th>\n",
       "    </tr>\n",
       "  </thead>\n",
       "  <tbody>\n",
       "    <tr>\n",
       "      <th>accuracy</th>\n",
       "      <td>1.000000</td>\n",
       "      <td>0.992309</td>\n",
       "      <td>0.990886</td>\n",
       "      <td>0.990295</td>\n",
       "      <td>0.991176</td>\n",
       "      <td>0.994652</td>\n",
       "      <td>0.177921</td>\n",
       "      <td>0.987020</td>\n",
       "      <td>-0.139480</td>\n",
       "      <td>0.193348</td>\n",
       "      <td>-0.359434</td>\n",
       "      <td>0.369317</td>\n",
       "      <td>0.362316</td>\n",
       "      <td>0.992261</td>\n",
       "      <td>-0.092889</td>\n",
       "      <td>-0.329599</td>\n",
       "    </tr>\n",
       "    <tr>\n",
       "      <th>avg_rating</th>\n",
       "      <td>0.992309</td>\n",
       "      <td>1.000000</td>\n",
       "      <td>0.989050</td>\n",
       "      <td>0.990579</td>\n",
       "      <td>0.989837</td>\n",
       "      <td>0.997632</td>\n",
       "      <td>0.172307</td>\n",
       "      <td>0.985834</td>\n",
       "      <td>-0.140742</td>\n",
       "      <td>0.193397</td>\n",
       "      <td>-0.354868</td>\n",
       "      <td>0.365996</td>\n",
       "      <td>0.354550</td>\n",
       "      <td>0.992373</td>\n",
       "      <td>-0.093601</td>\n",
       "      <td>-0.327416</td>\n",
       "    </tr>\n",
       "    <tr>\n",
       "      <th>checkin</th>\n",
       "      <td>0.990886</td>\n",
       "      <td>0.989050</td>\n",
       "      <td>1.000000</td>\n",
       "      <td>0.988552</td>\n",
       "      <td>0.993897</td>\n",
       "      <td>0.991113</td>\n",
       "      <td>0.179253</td>\n",
       "      <td>0.988432</td>\n",
       "      <td>-0.143273</td>\n",
       "      <td>0.192724</td>\n",
       "      <td>-0.362077</td>\n",
       "      <td>0.368950</td>\n",
       "      <td>0.359717</td>\n",
       "      <td>0.989198</td>\n",
       "      <td>-0.095179</td>\n",
       "      <td>-0.331756</td>\n",
       "    </tr>\n",
       "    <tr>\n",
       "      <th>cleanliness</th>\n",
       "      <td>0.990295</td>\n",
       "      <td>0.990579</td>\n",
       "      <td>0.988552</td>\n",
       "      <td>1.000000</td>\n",
       "      <td>0.988507</td>\n",
       "      <td>0.992760</td>\n",
       "      <td>0.171952</td>\n",
       "      <td>0.985116</td>\n",
       "      <td>-0.138918</td>\n",
       "      <td>0.193025</td>\n",
       "      <td>-0.355318</td>\n",
       "      <td>0.366982</td>\n",
       "      <td>0.355402</td>\n",
       "      <td>0.991006</td>\n",
       "      <td>-0.092434</td>\n",
       "      <td>-0.328079</td>\n",
       "    </tr>\n",
       "    <tr>\n",
       "      <th>communication</th>\n",
       "      <td>0.991176</td>\n",
       "      <td>0.989837</td>\n",
       "      <td>0.993897</td>\n",
       "      <td>0.988507</td>\n",
       "      <td>1.000000</td>\n",
       "      <td>0.992177</td>\n",
       "      <td>0.175797</td>\n",
       "      <td>0.988185</td>\n",
       "      <td>-0.144677</td>\n",
       "      <td>0.193033</td>\n",
       "      <td>-0.361562</td>\n",
       "      <td>0.369345</td>\n",
       "      <td>0.359842</td>\n",
       "      <td>0.990224</td>\n",
       "      <td>-0.097071</td>\n",
       "      <td>-0.331289</td>\n",
       "    </tr>\n",
       "  </tbody>\n",
       "</table>\n",
       "</div>"
      ],
      "text/plain": [
       "               accuracy  avg_rating   checkin  cleanliness  communication  \\\n",
       "accuracy       1.000000    0.992309  0.990886     0.990295       0.991176   \n",
       "avg_rating     0.992309    1.000000  0.989050     0.990579       0.989837   \n",
       "checkin        0.990886    0.989050  1.000000     0.988552       0.993897   \n",
       "cleanliness    0.990295    0.990579  0.988552     1.000000       0.988507   \n",
       "communication  0.991176    0.989837  0.993897     0.988507       1.000000   \n",
       "\n",
       "               guest_satisfication  host_reviews  location  \\\n",
       "accuracy                  0.994652      0.177921  0.987020   \n",
       "avg_rating                0.997632      0.172307  0.985834   \n",
       "checkin                   0.991113      0.179253  0.988432   \n",
       "cleanliness               0.992760      0.171952  0.985116   \n",
       "communication             0.992177      0.175797  0.988185   \n",
       "\n",
       "               monthly_price_factor  picture_count     price  response_rate  \\\n",
       "accuracy                  -0.139480       0.193348 -0.359434       0.369317   \n",
       "avg_rating                -0.140742       0.193397 -0.354868       0.365996   \n",
       "checkin                   -0.143273       0.192724 -0.362077       0.368950   \n",
       "cleanliness               -0.138918       0.193025 -0.355318       0.366982   \n",
       "communication             -0.144677       0.193033 -0.361562       0.369345   \n",
       "\n",
       "               reviews_count     value  weekly_price_factor  listing_key  \n",
       "accuracy            0.362316  0.992261            -0.092889    -0.329599  \n",
       "avg_rating          0.354550  0.992373            -0.093601    -0.327416  \n",
       "checkin             0.359717  0.989198            -0.095179    -0.331756  \n",
       "cleanliness         0.355402  0.991006            -0.092434    -0.328079  \n",
       "communication       0.359842  0.990224            -0.097071    -0.331289  "
      ]
     },
     "execution_count": 12,
     "metadata": {},
     "output_type": "execute_result"
    }
   ],
   "source": [
    "# avg_rating and guest_satisfication have 99.7% correlation. \n",
    "# cleanliness, accuracy, communication, location, checkin, and value are all >95% correlated woth\n",
    "# guest satisfication. I made the decision to remove them as that much correlation would not\n",
    "# be any additional information added.\n",
    "\n",
    "# It seems that avg_rating = guest_satisfication / 20 pretty much\n",
    "features.corr().head()"
   ]
  },
  {
   "cell_type": "code",
   "execution_count": 13,
   "metadata": {},
   "outputs": [],
   "source": [
    "filtered_features = features.drop(columns=['accuracy', 'checkin', 'cleanliness', 'communication',\n",
    "                                           'location', 'value', 'avg_rating'])"
   ]
  },
  {
   "cell_type": "code",
   "execution_count": 14,
   "metadata": {},
   "outputs": [
    {
     "data": {
      "image/png": "[encoded data removed]",
      "text/plain": [
       "<Figure size 720x720 with 2 Axes>"
      ]
     },
     "metadata": {
      "needs_background": "light"
     },
     "output_type": "display_data"
    }
   ],
   "source": [
    "filtered_features_corr = filtered_features.corr()\n",
    "\n",
    "# Filter out correlations <0.20 to make graph easier to read\n",
    "# filtered_features_corr[np.abs(filtered_features_corr)<.2] = 0\n",
    "\n",
    "# Create mask to only include half of matrix\n",
    "mask = np.zeros_like(filtered_features_corr, dtype=np.bool)\n",
    "mask[np.triu_indices_from(mask)] = True\n",
    "\n",
    "plt.figure(figsize=(10,10))\n",
    "sns.heatmap(filtered_features_corr,\n",
    "            vmin=-1,\n",
    "            vmax=1,\n",
    "            cmap='coolwarm',\n",
    "            annot=True,\n",
    "            mask=mask);"
   ]
  },
  {
   "cell_type": "code",
   "execution_count": 15,
   "metadata": {},
   "outputs": [],
   "source": [
    "# This looks much better now\n",
    "# There still seems to be high correlation between weekly_price_factor and monthly_price_factor\n",
    "# but we can start working on feature importance right now."
   ]
  },
  {
   "cell_type": "code",
   "execution_count": 16,
   "metadata": {},
   "outputs": [
    {
     "data": {
      "text/plain": [
       "(6669, 9)"
      ]
     },
     "execution_count": 16,
     "metadata": {},
     "output_type": "execute_result"
    }
   ],
   "source": [
    "filtered_features.shape"
   ]
  },
  {
   "cell_type": "code",
   "execution_count": 17,
   "metadata": {},
   "outputs": [],
   "source": [
    "# Response is guest satisfication and let's see if we can rank feature importance."
   ]
  },
  {
   "cell_type": "code",
   "execution_count": 18,
   "metadata": {},
   "outputs": [
    {
     "data": {
      "text/plain": [
       "Index(['guest_satisfication', 'host_reviews', 'monthly_price_factor',\n",
       "       'picture_count', 'price', 'response_rate', 'reviews_count',\n",
       "       'weekly_price_factor', 'listing_key'],\n",
       "      dtype='object')"
      ]
     },
     "execution_count": 18,
     "metadata": {},
     "output_type": "execute_result"
    }
   ],
   "source": [
    "filtered_features.columns"
   ]
  },
  {
   "cell_type": "code",
   "execution_count": 22,
   "metadata": {},
   "outputs": [
    {
     "data": {
      "text/html": [
       "<table class=\"simpletable\">\n",
       "<caption>OLS Regression Results</caption>\n",
       "<tr>\n",
       "  <th>Dep. Variable:</th>    <td>guest_satisfication</td> <th>  R-squared:         </th> <td>   0.214</td> \n",
       "</tr>\n",
       "<tr>\n",
       "  <th>Model:</th>                    <td>OLS</td>         <th>  Adj. R-squared:    </th> <td>   0.214</td> \n",
       "</tr>\n",
       "<tr>\n",
       "  <th>Method:</th>              <td>Least Squares</td>    <th>  F-statistic:       </th> <td>   605.4</td> \n",
       "</tr>\n",
       "<tr>\n",
       "  <th>Date:</th>              <td>Wed, 07 Aug 2019</td>   <th>  Prob (F-statistic):</th>  <td>  0.00</td>  \n",
       "</tr>\n",
       "<tr>\n",
       "  <th>Time:</th>                  <td>12:33:25</td>       <th>  Log-Likelihood:    </th> <td> -34007.</td> \n",
       "</tr>\n",
       "<tr>\n",
       "  <th>No. Observations:</th>       <td>  6669</td>        <th>  AIC:               </th> <td>6.802e+04</td>\n",
       "</tr>\n",
       "<tr>\n",
       "  <th>Df Residuals:</th>           <td>  6665</td>        <th>  BIC:               </th> <td>6.805e+04</td>\n",
       "</tr>\n",
       "<tr>\n",
       "  <th>Df Model:</th>               <td>     3</td>        <th>                     </th>     <td> </td>    \n",
       "</tr>\n",
       "<tr>\n",
       "  <th>Covariance Type:</th>       <td>nonrobust</td>      <th>                     </th>     <td> </td>    \n",
       "</tr>\n",
       "</table>\n",
       "<table class=\"simpletable\">\n",
       "<tr>\n",
       "        <td></td>           <th>coef</th>     <th>std err</th>      <th>t</th>      <th>P>|t|</th>  <th>[0.025</th>    <th>0.975]</th>  \n",
       "</tr>\n",
       "<tr>\n",
       "  <th>Intercept</th>     <td>   29.9913</td> <td>    1.062</td> <td>   28.230</td> <td> 0.000</td> <td>   27.909</td> <td>   32.074</td>\n",
       "</tr>\n",
       "<tr>\n",
       "  <th>host_reviews</th>  <td>    0.0003</td> <td>    0.001</td> <td>    0.260</td> <td> 0.795</td> <td>   -0.002</td> <td>    0.003</td>\n",
       "</tr>\n",
       "<tr>\n",
       "  <th>response_rate</th> <td>    0.3432</td> <td>    0.013</td> <td>   27.096</td> <td> 0.000</td> <td>    0.318</td> <td>    0.368</td>\n",
       "</tr>\n",
       "<tr>\n",
       "  <th>reviews_count</th> <td>    0.3186</td> <td>    0.013</td> <td>   24.009</td> <td> 0.000</td> <td>    0.293</td> <td>    0.345</td>\n",
       "</tr>\n",
       "</table>\n",
       "<table class=\"simpletable\">\n",
       "<tr>\n",
       "  <th>Omnibus:</th>       <td>1623.017</td> <th>  Durbin-Watson:     </th> <td>   1.716</td> \n",
       "</tr>\n",
       "<tr>\n",
       "  <th>Prob(Omnibus):</th>  <td> 0.000</td>  <th>  Jarque-Bera (JB):  </th> <td> 497.919</td> \n",
       "</tr>\n",
       "<tr>\n",
       "  <th>Skew:</th>           <td>-0.452</td>  <th>  Prob(JB):          </th> <td>7.56e-109</td>\n",
       "</tr>\n",
       "<tr>\n",
       "  <th>Kurtosis:</th>       <td> 2.013</td>  <th>  Cond. No.          </th> <td>1.10e+03</td> \n",
       "</tr>\n",
       "</table><br/><br/>Warnings:<br/>[1] Standard Errors assume that the covariance matrix of the errors is correctly specified.<br/>[2] The condition number is large, 1.1e+03. This might indicate that there are<br/>strong multicollinearity or other numerical problems."
      ],
      "text/plain": [
       "<class 'statsmodels.iolib.summary.Summary'>\n",
       "\"\"\"\n",
       "                             OLS Regression Results                            \n",
       "===============================================================================\n",
       "Dep. Variable:     guest_satisfication   R-squared:                       0.214\n",
       "Model:                             OLS   Adj. R-squared:                  0.214\n",
       "Method:                  Least Squares   F-statistic:                     605.4\n",
       "Date:                 Wed, 07 Aug 2019   Prob (F-statistic):               0.00\n",
       "Time:                         12:33:25   Log-Likelihood:                -34007.\n",
       "No. Observations:                 6669   AIC:                         6.802e+04\n",
       "Df Residuals:                     6665   BIC:                         6.805e+04\n",
       "Df Model:                            3                                         \n",
       "Covariance Type:             nonrobust                                         \n",
       "=================================================================================\n",
       "                    coef    std err          t      P>|t|      [0.025      0.975]\n",
       "---------------------------------------------------------------------------------\n",
       "Intercept        29.9913      1.062     28.230      0.000      27.909      32.074\n",
       "host_reviews      0.0003      0.001      0.260      0.795      -0.002       0.003\n",
       "response_rate     0.3432      0.013     27.096      0.000       0.318       0.368\n",
       "reviews_count     0.3186      0.013     24.009      0.000       0.293       0.345\n",
       "==============================================================================\n",
       "Omnibus:                     1623.017   Durbin-Watson:                   1.716\n",
       "Prob(Omnibus):                  0.000   Jarque-Bera (JB):              497.919\n",
       "Skew:                          -0.452   Prob(JB):                    7.56e-109\n",
       "Kurtosis:                       2.013   Cond. No.                     1.10e+03\n",
       "==============================================================================\n",
       "\n",
       "Warnings:\n",
       "[1] Standard Errors assume that the covariance matrix of the errors is correctly specified.\n",
       "[2] The condition number is large, 1.1e+03. This might indicate that there are\n",
       "strong multicollinearity or other numerical problems.\n",
       "\"\"\""
      ]
     },
     "execution_count": 22,
     "metadata": {},
     "output_type": "execute_result"
    }
   ],
   "source": [
    "# Quick linear regression\n",
    "\n",
    "model = smf.ols(formula=\"guest_satisfication ~ host_reviews +  \\\n",
    "                         response_rate + reviews_count\"\n",
    "                         , data=filtered_features).fit()\n",
    "model.summary()"
   ]
  },
  {
   "cell_type": "code",
   "execution_count": 83,
   "metadata": {},
   "outputs": [],
   "source": [
    "# I don't think price should be a variable. It's mre of a filter to me"
   ]
  },
  {
   "cell_type": "code",
   "execution_count": 87,
   "metadata": {},
   "outputs": [],
   "source": [
    "# TODO: scikit-learn for feature importance ranking."
   ]
  },
  {
   "cell_type": "code",
   "execution_count": null,
   "metadata": {},
   "outputs": [],
   "source": []
  },
  {
   "cell_type": "code",
   "execution_count": 21,
   "metadata": {},
   "outputs": [],
   "source": [
    "# To possibly think of: scraping reviews to score on sentiment/positive value"
   ]
  },
  {
   "cell_type": "code",
   "execution_count": 20,
   "metadata": {},
   "outputs": [],
   "source": [
    "filtered_features.to_csv('filtered_features.csv', index=False)"
   ]
  },
  {
   "cell_type": "code",
   "execution_count": null,
   "metadata": {},
   "outputs": [],
   "source": []
  }
 ],
 "metadata": {
  "kernelspec": {
   "display_name": "Python 3",
   "language": "python",
   "name": "python3"
  },
  "language_info": {
   "codemirror_mode": {
    "name": "ipython",
    "version": 3
   },
   "file_extension": ".py",
   "mimetype": "text/x-python",
   "name": "python",
   "nbconvert_exporter": "python",
   "pygments_lexer": "ipython3",
   "version": "3.6.5"
  }
 },
 "nbformat": 4,
 "nbformat_minor": 2
}
