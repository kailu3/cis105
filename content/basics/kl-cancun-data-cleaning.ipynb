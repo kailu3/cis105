{
 "cells": [
  {
   "cell_type": "code",
   "execution_count": 2,
   "metadata": {},
   "outputs": [],
   "source": [
    "import numpy as np\n",
    "import pandas as pd\n",
    "import json\n",
    "import os"
   ]
  },
  {
   "cell_type": "markdown",
   "metadata": {},
   "source": [
    "## Reads `.json` Files and Combines them into `.csv`"
   ]
  },
  {
   "cell_type": "code",
   "execution_count": 2,
   "metadata": {},
   "outputs": [],
   "source": [
    "df = pd.DataFrame()\n",
    "for num in np.arange(15, 995, 10):\n",
    "    lower_bound = str(num)\n",
    "    upper_bound = str(num + 10)\n",
    "    filename = lower_bound + \"to\" + upper_bound + \".json\"\n",
    "    # Check if file is empty\n",
    "    if os.stat(filename).st_size != 0:    \n",
    "        some_df = pd.read_json(filename)\n",
    "        df = pd.concat([df, some_df])"
   ]
  },
  {
   "cell_type": "code",
   "execution_count": 3,
   "metadata": {},
   "outputs": [
    {
     "data": {
      "text/plain": [
       "6414"
      ]
     },
     "execution_count": 3,
     "metadata": {},
     "output_type": "execute_result"
    }
   ],
   "source": [
    "len(df)"
   ]
  },
  {
   "cell_type": "code",
   "execution_count": 4,
   "metadata": {},
   "outputs": [],
   "source": [
    "df.drop_duplicates(subset='url', keep='first', inplace=True)\n"
   ]
  },
  {
   "cell_type": "code",
   "execution_count": 5,
   "metadata": {},
   "outputs": [
    {
     "data": {
      "text/plain": [
       "5796"
      ]
     },
     "execution_count": 5,
     "metadata": {},
     "output_type": "execute_result"
    }
   ],
   "source": [
    "len(df)"
   ]
  },
  {
   "cell_type": "code",
   "execution_count": 6,
   "metadata": {},
   "outputs": [
    {
     "data": {
      "text/plain": [
       "(5796, 37)"
      ]
     },
     "execution_count": 6,
     "metadata": {},
     "output_type": "execute_result"
    }
   ],
   "source": [
    "df.shape"
   ]
  },
  {
   "cell_type": "code",
   "execution_count": 7,
   "metadata": {},
   "outputs": [],
   "source": [
    "df.to_csv('cancun_scrape_5.csv', index=False)"
   ]
  },
  {
   "cell_type": "code",
   "execution_count": 8,
   "metadata": {},
   "outputs": [
    {
     "data": {
      "text/html": [
       "<div>\n",
       "<style scoped>\n",
       "    .dataframe tbody tr th:only-of-type {\n",
       "        vertical-align: middle;\n",
       "    }\n",
       "\n",
       "    .dataframe tbody tr th {\n",
       "        vertical-align: top;\n",
       "    }\n",
       "\n",
       "    .dataframe thead th {\n",
       "        text-align: right;\n",
       "    }\n",
       "</style>\n",
       "<table border=\"1\" class=\"dataframe\">\n",
       "  <thead>\n",
       "    <tr style=\"text-align: right;\">\n",
       "      <th></th>\n",
       "      <th>accuracy</th>\n",
       "      <th>amt_w_service</th>\n",
       "      <th>avg_rating</th>\n",
       "      <th>bathrooms</th>\n",
       "      <th>bedrooms</th>\n",
       "      <th>can_instant_book</th>\n",
       "      <th>checkin</th>\n",
       "      <th>cleanliness</th>\n",
       "      <th>communication</th>\n",
       "      <th>currency</th>\n",
       "      <th>...</th>\n",
       "      <th>price</th>\n",
       "      <th>rate_type</th>\n",
       "      <th>response_rate</th>\n",
       "      <th>response_time</th>\n",
       "      <th>reviews_count</th>\n",
       "      <th>room_type_category</th>\n",
       "      <th>star_rating</th>\n",
       "      <th>url</th>\n",
       "      <th>value</th>\n",
       "      <th>weekly_price_factor</th>\n",
       "    </tr>\n",
       "  </thead>\n",
       "  <tbody>\n",
       "    <tr>\n",
       "      <th>76</th>\n",
       "      <td>10</td>\n",
       "      <td>236</td>\n",
       "      <td>4.8</td>\n",
       "      <td>2.0</td>\n",
       "      <td>2.0</td>\n",
       "      <td>True</td>\n",
       "      <td>10</td>\n",
       "      <td>10</td>\n",
       "      <td>10</td>\n",
       "      <td>CAD</td>\n",
       "      <td>...</td>\n",
       "      <td>236</td>\n",
       "      <td>nightly</td>\n",
       "      <td>100</td>\n",
       "      <td>within an hour</td>\n",
       "      <td>69</td>\n",
       "      <td>entire_home</td>\n",
       "      <td>5.0</td>\n",
       "      <td>https://www.airbnb.com/rooms/10823831</td>\n",
       "      <td>10</td>\n",
       "      <td>1.0</td>\n",
       "    </tr>\n",
       "  </tbody>\n",
       "</table>\n",
       "<p>1 rows × 37 columns</p>\n",
       "</div>"
      ],
      "text/plain": [
       "    accuracy  amt_w_service  avg_rating  bathrooms  bedrooms  \\\n",
       "76        10            236         4.8        2.0       2.0   \n",
       "\n",
       "    can_instant_book  checkin  cleanliness  communication currency  ...  \\\n",
       "76              True       10           10             10      CAD  ...   \n",
       "\n",
       "    price  rate_type  response_rate   response_time  reviews_count  \\\n",
       "76    236    nightly            100  within an hour             69   \n",
       "\n",
       "    room_type_category  star_rating                                    url  \\\n",
       "76         entire_home          5.0  https://www.airbnb.com/rooms/10823831   \n",
       "\n",
       "   value  weekly_price_factor  \n",
       "76    10                  1.0  \n",
       "\n",
       "[1 rows x 37 columns]"
      ]
     },
     "execution_count": 8,
     "metadata": {},
     "output_type": "execute_result"
    }
   ],
   "source": [
    "df[df['url'] == 'https://www.airbnb.com/rooms/10823831']"
   ]
  },
  {
   "cell_type": "markdown",
   "metadata": {},
   "source": [
    "## Reads multiple `.csv` Files and Combines them into one `.csv`"
   ]
  },
  {
   "cell_type": "code",
   "execution_count": 4,
   "metadata": {},
   "outputs": [
    {
     "name": "stdout",
     "output_type": "stream",
     "text": [
      "On iteration 1, we added 5151 new rows\n",
      "On iteration 2, we added 144 new rows\n",
      "On iteration 3, we added 747 new rows\n",
      "On iteration 4, we added 462 new rows\n",
      "On iteration 5, we added 169 new rows\n"
     ]
    }
   ],
   "source": [
    "cancun_df = pd.DataFrame()\n",
    "growth_list = []\n",
    "for num in np.arange(1, 6):\n",
    "    filename = \"cancun_scrape_{0}.csv\".format(num)\n",
    "    some_df = pd.read_csv(filename)\n",
    "    \n",
    "    # Calculate dataframe size before\n",
    "    prev_size = len(cancun_df)\n",
    "    \n",
    "    # Combine dataframes and drop the duplicates\n",
    "    cancun_df = pd.concat([cancun_df, some_df])\n",
    "    cancun_df = cancun_df.drop_duplicates(subset='url', keep='first')\n",
    "\n",
    "    # Calculate dataframe size after\n",
    "    after_size = len(cancun_df)\n",
    "    \n",
    "    # Calculate growth\n",
    "    growth = after_size - prev_size\n",
    "    growth_list.append(growth)\n",
    "    \n",
    "    print(\"On iteration {0}, we added {1} new rows\".format(num, growth))"
   ]
  },
  {
   "cell_type": "code",
   "execution_count": 7,
   "metadata": {},
   "outputs": [
    {
     "data": {
      "text/plain": [
       "(6673, 37)"
      ]
     },
     "execution_count": 7,
     "metadata": {},
     "output_type": "execute_result"
    }
   ],
   "source": [
    "cancun_df.shape"
   ]
  },
  {
   "cell_type": "code",
   "execution_count": 8,
   "metadata": {},
   "outputs": [],
   "source": [
    "cancun_df.to_csv('cancun_final.csv', index=False)"
   ]
  },
  {
   "cell_type": "code",
   "execution_count": null,
   "metadata": {},
   "outputs": [],
   "source": []
  }
 ],
 "metadata": {
  "kernelspec": {
   "display_name": "Python 3",
   "language": "python",
   "name": "python3"
  },
  "language_info": {
   "codemirror_mode": {
    "name": "ipython",
    "version": 3
   },
   "file_extension": ".py",
   "mimetype": "text/x-python",
   "name": "python",
   "nbconvert_exporter": "python",
   "pygments_lexer": "ipython3",
   "version": "3.6.5"
  }
 },
 "nbformat": 4,
 "nbformat_minor": 2
}
