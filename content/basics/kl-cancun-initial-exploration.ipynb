{
 "cells": [
  {
   "cell_type": "code",
   "execution_count": 17,
   "metadata": {},
   "outputs": [],
   "source": [
    "%matplotlib inline\n",
    "import numpy as np\n",
    "import pandas as pd\n",
    "import pandas_profiling\n",
    "import matplotlib.pyplot as plt\n",
    "import seaborn as sns\n",
    "import re"
   ]
  },
  {
   "cell_type": "code",
   "execution_count": 2,
   "metadata": {},
   "outputs": [],
   "source": [
    "cancun = pd.read_csv('../data/interim/cancun_unclean.csv')"
   ]
  },
  {
   "cell_type": "code",
   "execution_count": 3,
   "metadata": {},
   "outputs": [],
   "source": [
    "# Initial report for exploratory\n",
    "# profile = cancun.profile_report(title='Pandas Profiling Report')\n",
    "# profile.to_file(output_file=\"cancun_unclean.html\")"
   ]
  },
  {
   "cell_type": "markdown",
   "metadata": {
    "toc-hr-collapsed": false
   },
   "source": [
    "# Inital Exploration"
   ]
  },
  {
   "cell_type": "code",
   "execution_count": 4,
   "metadata": {},
   "outputs": [
    {
     "data": {
      "text/plain": [
       "(6673, 37)"
      ]
     },
     "execution_count": 4,
     "metadata": {},
     "output_type": "execute_result"
    }
   ],
   "source": [
    "cancun.shape"
   ]
  },
  {
   "cell_type": "code",
   "execution_count": 5,
   "metadata": {},
   "outputs": [
    {
     "data": {
      "text/plain": [
       "localized_neighborhood    6673\n",
       "star_rating               3044\n",
       "response_time             1217\n",
       "listing_name                 7\n",
       "bathrooms                    2\n",
       "bedrooms                     2\n",
       "currency                     0\n",
       "dtype: int64"
      ]
     },
     "execution_count": 5,
     "metadata": {},
     "output_type": "execute_result"
    }
   ],
   "source": [
    "cancun.isnull().sum().sort_values(ascending=False).head(7)"
   ]
  },
  {
   "cell_type": "markdown",
   "metadata": {},
   "source": [
    "## Dealing with Missing Values"
   ]
  },
  {
   "cell_type": "markdown",
   "metadata": {},
   "source": [
    "Spider scraped 37 fields for around 6673 listings in Cancún but not all fields are important or have no missing values. That said, there is some manual selection to be done. Since there are only 37 fields, this is doable. If there were more (e.g. 100+ columns), manual selection would not be possible and we would have to adopt some rule system to remove low variance/high correlation/high NA columns.\n",
    "\n",
    "`localized_neighborhood`, `star_rating`, and `response time` have a large number of NaN/NA values. `localized neighborhood` is instantly dropped as it's missing all its values; `star_rating` is substitutable with `avg_rating` and `response time` is not super crucial to our analysis and will also be dropped. There are 2 NAs for both `bedrooms` and `bathrooms` but we can simply drop those rows since there aren't a lot of them."
   ]
  },
  {
   "cell_type": "code",
   "execution_count": 6,
   "metadata": {},
   "outputs": [],
   "source": [
    "COLUMNS_TO_DROP = ['is_business_travel_ready', # Constant Column\n",
    "                   'localized_neighborhood', # Not Important field\n",
    "                   'amt_w_service', # Duplicate with price\n",
    "                   'rate_type', # Constant Column\n",
    "                   'star_rating', # 45% missing\n",
    "                   'listing_name', # Not Important field\n",
    "                   'response_time', # 18% missing + Not descriptive enough\n",
    "                   'localized_city',\n",
    "                   'host_id'] # Same with localized_neighborhood"
   ]
  },
  {
   "cell_type": "markdown",
   "metadata": {},
   "source": [
    "We also need to separate the `VARIABLES` from the `FILTERS`. We want to create two DataFrames that are joinable by key."
   ]
  },
  {
   "cell_type": "code",
   "execution_count": 7,
   "metadata": {},
   "outputs": [],
   "source": [
    "FILTERS_WITH_URL = ['bathrooms', 'bedrooms', 'num_beds', 'can_instant_book',\n",
    "                    'is_fully_refundable', 'is_superhost', 'is_new_listing',\n",
    "                    'room_type_category', 'person_capacity', 'lat', 'lng', \n",
    "                     'url']\n",
    "\n",
    "FILTERS = ['bathrooms', 'bedrooms', 'num_beds', 'can_instant_book',\n",
    "           'is_fully_refundable', 'is_superhost', 'is_new_listing',\n",
    "           'room_type_category', 'person_capacity', 'lat', 'lng']"
   ]
  },
  {
   "cell_type": "markdown",
   "metadata": {},
   "source": [
    "## Filters"
   ]
  },
  {
   "cell_type": "code",
   "execution_count": 8,
   "metadata": {},
   "outputs": [],
   "source": [
    "cancun_filters = (cancun\n",
    "                  .drop(columns=COLUMNS_TO_DROP)\n",
    "                  .dropna(how='any') \n",
    "                  .loc[:,FILTERS_WITH_URL] \n",
    "                 )                                            "
   ]
  },
  {
   "cell_type": "code",
   "execution_count": 9,
   "metadata": {},
   "outputs": [
    {
     "data": {
      "text/plain": [
       "(6669, 12)"
      ]
     },
     "execution_count": 9,
     "metadata": {},
     "output_type": "execute_result"
    }
   ],
   "source": [
    "cancun_filters.shape"
   ]
  },
  {
   "cell_type": "code",
   "execution_count": 10,
   "metadata": {},
   "outputs": [
    {
     "data": {
      "text/html": [
       "<div>\n",
       "<style scoped>\n",
       "    .dataframe tbody tr th:only-of-type {\n",
       "        vertical-align: middle;\n",
       "    }\n",
       "\n",
       "    .dataframe tbody tr th {\n",
       "        vertical-align: top;\n",
       "    }\n",
       "\n",
       "    .dataframe thead th {\n",
       "        text-align: right;\n",
       "    }\n",
       "</style>\n",
       "<table border=\"1\" class=\"dataframe\">\n",
       "  <thead>\n",
       "    <tr style=\"text-align: right;\">\n",
       "      <th></th>\n",
       "      <th>bathrooms</th>\n",
       "      <th>bedrooms</th>\n",
       "      <th>num_beds</th>\n",
       "      <th>can_instant_book</th>\n",
       "      <th>is_fully_refundable</th>\n",
       "      <th>is_superhost</th>\n",
       "      <th>is_new_listing</th>\n",
       "      <th>room_type_category</th>\n",
       "      <th>person_capacity</th>\n",
       "      <th>lat</th>\n",
       "      <th>lng</th>\n",
       "      <th>url</th>\n",
       "    </tr>\n",
       "  </thead>\n",
       "  <tbody>\n",
       "    <tr>\n",
       "      <th>0</th>\n",
       "      <td>1.0</td>\n",
       "      <td>1.0</td>\n",
       "      <td>1</td>\n",
       "      <td>True</td>\n",
       "      <td>True</td>\n",
       "      <td>True</td>\n",
       "      <td>False</td>\n",
       "      <td>private_room</td>\n",
       "      <td>2</td>\n",
       "      <td>21.13566</td>\n",
       "      <td>-86.76741</td>\n",
       "      <td>https://www.airbnb.com/rooms/20776319</td>\n",
       "    </tr>\n",
       "    <tr>\n",
       "      <th>1</th>\n",
       "      <td>1.0</td>\n",
       "      <td>1.0</td>\n",
       "      <td>1</td>\n",
       "      <td>False</td>\n",
       "      <td>True</td>\n",
       "      <td>True</td>\n",
       "      <td>False</td>\n",
       "      <td>private_room</td>\n",
       "      <td>2</td>\n",
       "      <td>21.14571</td>\n",
       "      <td>-86.84190</td>\n",
       "      <td>https://www.airbnb.com/rooms/16492050</td>\n",
       "    </tr>\n",
       "    <tr>\n",
       "      <th>2</th>\n",
       "      <td>1.5</td>\n",
       "      <td>1.0</td>\n",
       "      <td>1</td>\n",
       "      <td>True</td>\n",
       "      <td>True</td>\n",
       "      <td>False</td>\n",
       "      <td>False</td>\n",
       "      <td>private_room</td>\n",
       "      <td>2</td>\n",
       "      <td>21.13119</td>\n",
       "      <td>-86.76394</td>\n",
       "      <td>https://www.airbnb.com/rooms/14266451</td>\n",
       "    </tr>\n",
       "    <tr>\n",
       "      <th>3</th>\n",
       "      <td>1.0</td>\n",
       "      <td>2.0</td>\n",
       "      <td>2</td>\n",
       "      <td>True</td>\n",
       "      <td>True</td>\n",
       "      <td>True</td>\n",
       "      <td>False</td>\n",
       "      <td>entire_home</td>\n",
       "      <td>5</td>\n",
       "      <td>21.15737</td>\n",
       "      <td>-86.83975</td>\n",
       "      <td>https://www.airbnb.com/rooms/17625889</td>\n",
       "    </tr>\n",
       "    <tr>\n",
       "      <th>4</th>\n",
       "      <td>1.0</td>\n",
       "      <td>1.0</td>\n",
       "      <td>2</td>\n",
       "      <td>True</td>\n",
       "      <td>True</td>\n",
       "      <td>False</td>\n",
       "      <td>False</td>\n",
       "      <td>entire_home</td>\n",
       "      <td>3</td>\n",
       "      <td>21.15327</td>\n",
       "      <td>-86.85548</td>\n",
       "      <td>https://www.airbnb.com/rooms/18543147</td>\n",
       "    </tr>\n",
       "  </tbody>\n",
       "</table>\n",
       "</div>"
      ],
      "text/plain": [
       "   bathrooms  bedrooms  num_beds  can_instant_book  is_fully_refundable  \\\n",
       "0        1.0       1.0         1              True                 True   \n",
       "1        1.0       1.0         1             False                 True   \n",
       "2        1.5       1.0         1              True                 True   \n",
       "3        1.0       2.0         2              True                 True   \n",
       "4        1.0       1.0         2              True                 True   \n",
       "\n",
       "   is_superhost  is_new_listing room_type_category  person_capacity       lat  \\\n",
       "0          True           False       private_room                2  21.13566   \n",
       "1          True           False       private_room                2  21.14571   \n",
       "2         False           False       private_room                2  21.13119   \n",
       "3          True           False        entire_home                5  21.15737   \n",
       "4         False           False        entire_home                3  21.15327   \n",
       "\n",
       "        lng                                    url  \n",
       "0 -86.76741  https://www.airbnb.com/rooms/20776319  \n",
       "1 -86.84190  https://www.airbnb.com/rooms/16492050  \n",
       "2 -86.76394  https://www.airbnb.com/rooms/14266451  \n",
       "3 -86.83975  https://www.airbnb.com/rooms/17625889  \n",
       "4 -86.85548  https://www.airbnb.com/rooms/18543147  "
      ]
     },
     "execution_count": 10,
     "metadata": {},
     "output_type": "execute_result"
    }
   ],
   "source": [
    "cancun_filters.head(5)"
   ]
  },
  {
   "cell_type": "code",
   "execution_count": 11,
   "metadata": {},
   "outputs": [
    {
     "data": {
      "text/plain": [
       "Index(['bathrooms', 'bedrooms', 'num_beds', 'can_instant_book',\n",
       "       'is_fully_refundable', 'is_superhost', 'is_new_listing',\n",
       "       'room_type_category', 'person_capacity', 'lat', 'lng', 'url'],\n",
       "      dtype='object')"
      ]
     },
     "execution_count": 11,
     "metadata": {},
     "output_type": "execute_result"
    }
   ],
   "source": [
    "cancun_filters.columns"
   ]
  },
  {
   "cell_type": "code",
   "execution_count": 12,
   "metadata": {},
   "outputs": [],
   "source": [
    "def exclude_columns(df, columns):\n",
    "    \"\"\"\n",
    "    Exludes specified columns [List] from the DataFrame\n",
    "    \"\"\"\n",
    "    return df[df.columns[~df.columns.isin(columns)]]"
   ]
  },
  {
   "cell_type": "markdown",
   "metadata": {},
   "source": [
    "## Variables"
   ]
  },
  {
   "cell_type": "code",
   "execution_count": 13,
   "metadata": {},
   "outputs": [],
   "source": [
    "cancun_variables = (cancun\n",
    "                    .drop(columns=COLUMNS_TO_DROP)\n",
    "                    .dropna(how='any') \n",
    "                    .pipe(exclude_columns, columns=FILTERS)\n",
    "                   )"
   ]
  },
  {
   "cell_type": "code",
   "execution_count": 14,
   "metadata": {},
   "outputs": [
    {
     "data": {
      "text/plain": [
       "(6669, 17)"
      ]
     },
     "execution_count": 14,
     "metadata": {},
     "output_type": "execute_result"
    }
   ],
   "source": [
    "cancun_variables.shape"
   ]
  },
  {
   "cell_type": "code",
   "execution_count": 15,
   "metadata": {},
   "outputs": [
    {
     "data": {
      "text/html": [
       "<div>\n",
       "<style scoped>\n",
       "    .dataframe tbody tr th:only-of-type {\n",
       "        vertical-align: middle;\n",
       "    }\n",
       "\n",
       "    .dataframe tbody tr th {\n",
       "        vertical-align: top;\n",
       "    }\n",
       "\n",
       "    .dataframe thead th {\n",
       "        text-align: right;\n",
       "    }\n",
       "</style>\n",
       "<table border=\"1\" class=\"dataframe\">\n",
       "  <thead>\n",
       "    <tr style=\"text-align: right;\">\n",
       "      <th></th>\n",
       "      <th>accuracy</th>\n",
       "      <th>avg_rating</th>\n",
       "      <th>checkin</th>\n",
       "      <th>cleanliness</th>\n",
       "      <th>communication</th>\n",
       "      <th>currency</th>\n",
       "      <th>guest_satisfication</th>\n",
       "      <th>host_reviews</th>\n",
       "      <th>location</th>\n",
       "      <th>monthly_price_factor</th>\n",
       "      <th>picture_count</th>\n",
       "      <th>price</th>\n",
       "      <th>response_rate</th>\n",
       "      <th>reviews_count</th>\n",
       "      <th>url</th>\n",
       "      <th>value</th>\n",
       "      <th>weekly_price_factor</th>\n",
       "    </tr>\n",
       "  </thead>\n",
       "  <tbody>\n",
       "    <tr>\n",
       "      <th>0</th>\n",
       "      <td>10</td>\n",
       "      <td>4.74</td>\n",
       "      <td>10</td>\n",
       "      <td>9</td>\n",
       "      <td>10</td>\n",
       "      <td>CAD</td>\n",
       "      <td>95</td>\n",
       "      <td>311</td>\n",
       "      <td>10</td>\n",
       "      <td>0.88</td>\n",
       "      <td>19</td>\n",
       "      <td>22</td>\n",
       "      <td>100</td>\n",
       "      <td>50</td>\n",
       "      <td>https://www.airbnb.com/rooms/20776319</td>\n",
       "      <td>10</td>\n",
       "      <td>0.88</td>\n",
       "    </tr>\n",
       "    <tr>\n",
       "      <th>1</th>\n",
       "      <td>10</td>\n",
       "      <td>4.93</td>\n",
       "      <td>10</td>\n",
       "      <td>10</td>\n",
       "      <td>10</td>\n",
       "      <td>CAD</td>\n",
       "      <td>99</td>\n",
       "      <td>147</td>\n",
       "      <td>10</td>\n",
       "      <td>0.85</td>\n",
       "      <td>22</td>\n",
       "      <td>28</td>\n",
       "      <td>100</td>\n",
       "      <td>108</td>\n",
       "      <td>https://www.airbnb.com/rooms/16492050</td>\n",
       "      <td>10</td>\n",
       "      <td>0.90</td>\n",
       "    </tr>\n",
       "    <tr>\n",
       "      <th>2</th>\n",
       "      <td>10</td>\n",
       "      <td>4.72</td>\n",
       "      <td>10</td>\n",
       "      <td>9</td>\n",
       "      <td>10</td>\n",
       "      <td>CAD</td>\n",
       "      <td>94</td>\n",
       "      <td>1376</td>\n",
       "      <td>9</td>\n",
       "      <td>1.00</td>\n",
       "      <td>14</td>\n",
       "      <td>30</td>\n",
       "      <td>100</td>\n",
       "      <td>243</td>\n",
       "      <td>https://www.airbnb.com/rooms/14266451</td>\n",
       "      <td>9</td>\n",
       "      <td>1.00</td>\n",
       "    </tr>\n",
       "    <tr>\n",
       "      <th>3</th>\n",
       "      <td>10</td>\n",
       "      <td>4.75</td>\n",
       "      <td>10</td>\n",
       "      <td>9</td>\n",
       "      <td>10</td>\n",
       "      <td>CAD</td>\n",
       "      <td>95</td>\n",
       "      <td>179</td>\n",
       "      <td>10</td>\n",
       "      <td>0.79</td>\n",
       "      <td>27</td>\n",
       "      <td>24</td>\n",
       "      <td>97</td>\n",
       "      <td>177</td>\n",
       "      <td>https://www.airbnb.com/rooms/17625889</td>\n",
       "      <td>10</td>\n",
       "      <td>0.93</td>\n",
       "    </tr>\n",
       "    <tr>\n",
       "      <th>4</th>\n",
       "      <td>10</td>\n",
       "      <td>4.65</td>\n",
       "      <td>10</td>\n",
       "      <td>9</td>\n",
       "      <td>10</td>\n",
       "      <td>CAD</td>\n",
       "      <td>93</td>\n",
       "      <td>631</td>\n",
       "      <td>9</td>\n",
       "      <td>0.80</td>\n",
       "      <td>18</td>\n",
       "      <td>21</td>\n",
       "      <td>100</td>\n",
       "      <td>194</td>\n",
       "      <td>https://www.airbnb.com/rooms/18543147</td>\n",
       "      <td>9</td>\n",
       "      <td>0.95</td>\n",
       "    </tr>\n",
       "  </tbody>\n",
       "</table>\n",
       "</div>"
      ],
      "text/plain": [
       "   accuracy  avg_rating  checkin  cleanliness  communication currency  \\\n",
       "0        10        4.74       10            9             10      CAD   \n",
       "1        10        4.93       10           10             10      CAD   \n",
       "2        10        4.72       10            9             10      CAD   \n",
       "3        10        4.75       10            9             10      CAD   \n",
       "4        10        4.65       10            9             10      CAD   \n",
       "\n",
       "   guest_satisfication  host_reviews  location  monthly_price_factor  \\\n",
       "0                   95           311        10                  0.88   \n",
       "1                   99           147        10                  0.85   \n",
       "2                   94          1376         9                  1.00   \n",
       "3                   95           179        10                  0.79   \n",
       "4                   93           631         9                  0.80   \n",
       "\n",
       "   picture_count  price  response_rate  reviews_count  \\\n",
       "0             19     22            100             50   \n",
       "1             22     28            100            108   \n",
       "2             14     30            100            243   \n",
       "3             27     24             97            177   \n",
       "4             18     21            100            194   \n",
       "\n",
       "                                     url  value  weekly_price_factor  \n",
       "0  https://www.airbnb.com/rooms/20776319     10                 0.88  \n",
       "1  https://www.airbnb.com/rooms/16492050     10                 0.90  \n",
       "2  https://www.airbnb.com/rooms/14266451      9                 1.00  \n",
       "3  https://www.airbnb.com/rooms/17625889     10                 0.93  \n",
       "4  https://www.airbnb.com/rooms/18543147      9                 0.95  "
      ]
     },
     "execution_count": 15,
     "metadata": {},
     "output_type": "execute_result"
    }
   ],
   "source": [
    "cancun_variables.head(5)"
   ]
  },
  {
   "cell_type": "code",
   "execution_count": 16,
   "metadata": {},
   "outputs": [
    {
     "data": {
      "text/plain": [
       "Index(['accuracy', 'avg_rating', 'checkin', 'cleanliness', 'communication',\n",
       "       'currency', 'guest_satisfication', 'host_reviews', 'location',\n",
       "       'monthly_price_factor', 'picture_count', 'price', 'response_rate',\n",
       "       'reviews_count', 'url', 'value', 'weekly_price_factor'],\n",
       "      dtype='object')"
      ]
     },
     "execution_count": 16,
     "metadata": {},
     "output_type": "execute_result"
    }
   ],
   "source": [
    "cancun_variables.columns"
   ]
  },
  {
   "cell_type": "code",
   "execution_count": 33,
   "metadata": {},
   "outputs": [],
   "source": [
    "def extract_id(url):\n",
    "    '''\n",
    "    Helper funciton that extracts the listing id\n",
    "    '''\n",
    "    return re.search('/rooms/(.*)', url).group(1)"
   ]
  },
  {
   "cell_type": "code",
   "execution_count": 34,
   "metadata": {},
   "outputs": [],
   "source": [
    "# Create new column listing_key\n",
    "cancun_variables['listing_key'] = cancun_variables['url'].apply(extract_id)"
   ]
  },
  {
   "cell_type": "code",
   "execution_count": 36,
   "metadata": {},
   "outputs": [],
   "source": [
    "# Do the same for cancun_filters\n",
    "cancun_filters['listing_key'] = cancun_filters['url'].apply(extract_id)"
   ]
  },
  {
   "cell_type": "code",
   "execution_count": 37,
   "metadata": {},
   "outputs": [
    {
     "data": {
      "text/html": [
       "<div>\n",
       "<style scoped>\n",
       "    .dataframe tbody tr th:only-of-type {\n",
       "        vertical-align: middle;\n",
       "    }\n",
       "\n",
       "    .dataframe tbody tr th {\n",
       "        vertical-align: top;\n",
       "    }\n",
       "\n",
       "    .dataframe thead th {\n",
       "        text-align: right;\n",
       "    }\n",
       "</style>\n",
       "<table border=\"1\" class=\"dataframe\">\n",
       "  <thead>\n",
       "    <tr style=\"text-align: right;\">\n",
       "      <th></th>\n",
       "      <th>bathrooms</th>\n",
       "      <th>bedrooms</th>\n",
       "      <th>num_beds</th>\n",
       "      <th>can_instant_book</th>\n",
       "      <th>is_fully_refundable</th>\n",
       "      <th>is_superhost</th>\n",
       "      <th>is_new_listing</th>\n",
       "      <th>room_type_category</th>\n",
       "      <th>person_capacity</th>\n",
       "      <th>lat</th>\n",
       "      <th>lng</th>\n",
       "      <th>url</th>\n",
       "      <th>listing_key</th>\n",
       "    </tr>\n",
       "  </thead>\n",
       "  <tbody>\n",
       "    <tr>\n",
       "      <th>0</th>\n",
       "      <td>1.0</td>\n",
       "      <td>1.0</td>\n",
       "      <td>1</td>\n",
       "      <td>True</td>\n",
       "      <td>True</td>\n",
       "      <td>True</td>\n",
       "      <td>False</td>\n",
       "      <td>private_room</td>\n",
       "      <td>2</td>\n",
       "      <td>21.13566</td>\n",
       "      <td>-86.76741</td>\n",
       "      <td>https://www.airbnb.com/rooms/20776319</td>\n",
       "      <td>20776319</td>\n",
       "    </tr>\n",
       "    <tr>\n",
       "      <th>1</th>\n",
       "      <td>1.0</td>\n",
       "      <td>1.0</td>\n",
       "      <td>1</td>\n",
       "      <td>False</td>\n",
       "      <td>True</td>\n",
       "      <td>True</td>\n",
       "      <td>False</td>\n",
       "      <td>private_room</td>\n",
       "      <td>2</td>\n",
       "      <td>21.14571</td>\n",
       "      <td>-86.84190</td>\n",
       "      <td>https://www.airbnb.com/rooms/16492050</td>\n",
       "      <td>16492050</td>\n",
       "    </tr>\n",
       "    <tr>\n",
       "      <th>2</th>\n",
       "      <td>1.5</td>\n",
       "      <td>1.0</td>\n",
       "      <td>1</td>\n",
       "      <td>True</td>\n",
       "      <td>True</td>\n",
       "      <td>False</td>\n",
       "      <td>False</td>\n",
       "      <td>private_room</td>\n",
       "      <td>2</td>\n",
       "      <td>21.13119</td>\n",
       "      <td>-86.76394</td>\n",
       "      <td>https://www.airbnb.com/rooms/14266451</td>\n",
       "      <td>14266451</td>\n",
       "    </tr>\n",
       "    <tr>\n",
       "      <th>3</th>\n",
       "      <td>1.0</td>\n",
       "      <td>2.0</td>\n",
       "      <td>2</td>\n",
       "      <td>True</td>\n",
       "      <td>True</td>\n",
       "      <td>True</td>\n",
       "      <td>False</td>\n",
       "      <td>entire_home</td>\n",
       "      <td>5</td>\n",
       "      <td>21.15737</td>\n",
       "      <td>-86.83975</td>\n",
       "      <td>https://www.airbnb.com/rooms/17625889</td>\n",
       "      <td>17625889</td>\n",
       "    </tr>\n",
       "    <tr>\n",
       "      <th>4</th>\n",
       "      <td>1.0</td>\n",
       "      <td>1.0</td>\n",
       "      <td>2</td>\n",
       "      <td>True</td>\n",
       "      <td>True</td>\n",
       "      <td>False</td>\n",
       "      <td>False</td>\n",
       "      <td>entire_home</td>\n",
       "      <td>3</td>\n",
       "      <td>21.15327</td>\n",
       "      <td>-86.85548</td>\n",
       "      <td>https://www.airbnb.com/rooms/18543147</td>\n",
       "      <td>18543147</td>\n",
       "    </tr>\n",
       "  </tbody>\n",
       "</table>\n",
       "</div>"
      ],
      "text/plain": [
       "   bathrooms  bedrooms  num_beds  can_instant_book  is_fully_refundable  \\\n",
       "0        1.0       1.0         1              True                 True   \n",
       "1        1.0       1.0         1             False                 True   \n",
       "2        1.5       1.0         1              True                 True   \n",
       "3        1.0       2.0         2              True                 True   \n",
       "4        1.0       1.0         2              True                 True   \n",
       "\n",
       "   is_superhost  is_new_listing room_type_category  person_capacity       lat  \\\n",
       "0          True           False       private_room                2  21.13566   \n",
       "1          True           False       private_room                2  21.14571   \n",
       "2         False           False       private_room                2  21.13119   \n",
       "3          True           False        entire_home                5  21.15737   \n",
       "4         False           False        entire_home                3  21.15327   \n",
       "\n",
       "        lng                                    url listing_key  \n",
       "0 -86.76741  https://www.airbnb.com/rooms/20776319    20776319  \n",
       "1 -86.84190  https://www.airbnb.com/rooms/16492050    16492050  \n",
       "2 -86.76394  https://www.airbnb.com/rooms/14266451    14266451  \n",
       "3 -86.83975  https://www.airbnb.com/rooms/17625889    17625889  \n",
       "4 -86.85548  https://www.airbnb.com/rooms/18543147    18543147  "
      ]
     },
     "execution_count": 37,
     "metadata": {},
     "output_type": "execute_result"
    }
   ],
   "source": [
    "cancun_filters.head()"
   ]
  },
  {
   "cell_type": "code",
   "execution_count": 38,
   "metadata": {},
   "outputs": [],
   "source": [
    "# Export variables and filters"
   ]
  },
  {
   "cell_type": "code",
   "execution_count": 39,
   "metadata": {},
   "outputs": [],
   "source": [
    "cancun_variables.to_csv('cancun_variables.csv', index=False)\n",
    "cancun_filters.to_csv('cancun_filters.csv', index=False)"
   ]
  },
  {
   "cell_type": "code",
   "execution_count": null,
   "metadata": {},
   "outputs": [],
   "source": []
  },
  {
   "cell_type": "code",
   "execution_count": null,
   "metadata": {},
   "outputs": [],
   "source": []
  },
  {
   "cell_type": "code",
   "execution_count": 53,
   "metadata": {},
   "outputs": [],
   "source": [
    "# profile = cancun_variables.profile_report(title='Pandas Profiling Report')\n",
    "# profile.to_file(output_file=\"cancun_variables.html\")\n"
   ]
  },
  {
   "cell_type": "code",
   "execution_count": null,
   "metadata": {},
   "outputs": [],
   "source": [
    "# IDEA: We currently have the issue where we cannot benchmark our model. Perhaps to prove that it is better than random selection,\n",
    "# scrape the 1st page of each price_range and see how much of our TOP 50 listings overlap with the 1st page Airbnb Listing Rankings,\n",
    "# compare to a random selection of listings, bootstrap the proportion/median/difference and see whether we have a significance difference.\n",
    "\n",
    "# Null Hypothesis: Our model will have the same overlap proportion with Airbnb Ranking (1st page) as a random selection\n",
    "# Alternative Hypothesis: Our model will have more first page listings than a random selection\n",
    "\n",
    "# This all depends on Airbnb's ranking algorithm. I wonder how it works! "
   ]
  },
  {
   "cell_type": "code",
   "execution_count": null,
   "metadata": {},
   "outputs": [],
   "source": []
  },
  {
   "cell_type": "code",
   "execution_count": 54,
   "metadata": {},
   "outputs": [],
   "source": [
    "# TODO: Variable section within variables. Try to filter down to ~10 to work with"
   ]
  },
  {
   "cell_type": "code",
   "execution_count": null,
   "metadata": {},
   "outputs": [],
   "source": []
  },
  {
   "cell_type": "code",
   "execution_count": null,
   "metadata": {},
   "outputs": [],
   "source": []
  }
 ],
 "metadata": {
  "kernelspec": {
   "display_name": "Python 3",
   "language": "python",
   "name": "python3"
  },
  "language_info": {
   "codemirror_mode": {
    "name": "ipython",
    "version": 3
   },
   "file_extension": ".py",
   "mimetype": "text/x-python",
   "name": "python",
   "nbconvert_exporter": "python",
   "pygments_lexer": "ipython3",
   "version": "3.6.5"
  }
 },
 "nbformat": 4,
 "nbformat_minor": 2
}
