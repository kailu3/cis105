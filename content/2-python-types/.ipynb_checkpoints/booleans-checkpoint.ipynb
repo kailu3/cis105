{
 "cells": [
  {
   "cell_type": "markdown",
   "metadata": {},
   "source": [
    "# Booleans"
   ]
  },
  {
   "cell_type": "markdown",
   "metadata": {},
   "source": [
    "Boolean values only come in two flavours: `True` and `False`. There's not much for me to talk about right now but these are going to be super useful later when we encounter pandas boolean indexing in further chapters as we try to slice our data. More on that later~"
   ]
  },
  {
   "cell_type": "code",
   "execution_count": 1,
   "metadata": {},
   "outputs": [
    {
     "data": {
      "text/plain": [
       "True"
      ]
     },
     "execution_count": 1,
     "metadata": {},
     "output_type": "execute_result"
    }
   ],
   "source": [
    "True"
   ]
  },
  {
   "cell_type": "code",
   "execution_count": 2,
   "metadata": {},
   "outputs": [
    {
     "data": {
      "text/plain": [
       "False"
      ]
     },
     "execution_count": 2,
     "metadata": {},
     "output_type": "execute_result"
    }
   ],
   "source": [
    "False"
   ]
  },
  {
   "cell_type": "markdown",
   "metadata": {},
   "source": [
    "### Comparisons\n",
    "\n",
    "Booleans are always the result of any comparison between two objects. Comparison operators come in five flavours. Here's a quick summary:\n",
    "\n",
    "\n",
    "| Operator\t    |          Description                   | Syntax     | Example | Result\n",
    "|---------------|----------------------------------------|------------|---------|-------\n",
    "| ==            | Equals                                 | x == y     | 2 == 2  | True\n",
    "| >             | Strictly Greater than                  | x > y      | 5 > 3   | True\n",
    "| <             | Strictly Less than                     | x < y      | 5 < 3   | False\n",
    "| >=            | Greater than or Equal to               | x >= y     | 4 >= 4  | True\n",
    "| <=            | Less than or Equal to                  | x <= y     | 4 <= 4  | True\n",
    "\n"
   ]
  },
  {
   "cell_type": "markdown",
   "metadata": {},
   "source": [
    "We typically use Boolean values to make comparisons between two objects. While this may seem trivial at this point, it is in fact very powerful in supporting quick and effective data analysis tasks. Here's a quick sneak peak at what we'll be learning later on this semester:"
   ]
  },
  {
   "cell_type": "markdown",
   "metadata": {},
   "source": [
    "### Example"
   ]
  },
  {
   "cell_type": "markdown",
   "metadata": {},
   "source": [
    "**Scenario:** Let's say you are looking for an Airbnb home to stay in for an upcoming trip. Now, you can't just pick any Airbnb listing as you would most likely need to filter the possibilities down to the listings that most satisfy your personal requirements. Now, suppose you had a dataset containing all of the listings in the location you are looking at. However, there are some contraints that you need to consider:\n",
    "- You need to look for listings <100 usd to be able to reimburse your trip\n",
    "- Since you are travelling with a classmate, you would prefer two beds in your Airbnb home\n",
    "- You want a listing that you can book instantly since your flight leaves tomorrow"
   ]
  },
  {
   "cell_type": "code",
   "execution_count": 26,
   "metadata": {},
   "outputs": [
    {
     "data": {
      "text/html": [
       "<div>\n",
       "<style scoped>\n",
       "    .dataframe tbody tr th:only-of-type {\n",
       "        vertical-align: middle;\n",
       "    }\n",
       "\n",
       "    .dataframe tbody tr th {\n",
       "        vertical-align: top;\n",
       "    }\n",
       "\n",
       "    .dataframe thead th {\n",
       "        text-align: right;\n",
       "    }\n",
       "</style>\n",
       "<table border=\"1\" class=\"dataframe\">\n",
       "  <thead>\n",
       "    <tr style=\"text-align: right;\">\n",
       "      <th></th>\n",
       "      <th>bathrooms</th>\n",
       "      <th>bedrooms</th>\n",
       "      <th>num_beds</th>\n",
       "      <th>can_instant_book</th>\n",
       "      <th>is_fully_refundable</th>\n",
       "      <th>is_superhost</th>\n",
       "      <th>is_new_listing</th>\n",
       "      <th>room_type_category</th>\n",
       "      <th>person_capacity</th>\n",
       "      <th>lat</th>\n",
       "      <th>lng</th>\n",
       "      <th>price</th>\n",
       "      <th>url</th>\n",
       "      <th>listing_key</th>\n",
       "      <th>price_in_usd</th>\n",
       "    </tr>\n",
       "  </thead>\n",
       "  <tbody>\n",
       "    <tr>\n",
       "      <th>0</th>\n",
       "      <td>1.0</td>\n",
       "      <td>1.0</td>\n",
       "      <td>1</td>\n",
       "      <td>True</td>\n",
       "      <td>True</td>\n",
       "      <td>True</td>\n",
       "      <td>False</td>\n",
       "      <td>private_room</td>\n",
       "      <td>2</td>\n",
       "      <td>21.13566</td>\n",
       "      <td>-86.76741</td>\n",
       "      <td>22</td>\n",
       "      <td>https://www.airbnb.com/rooms/20776319</td>\n",
       "      <td>20776319</td>\n",
       "      <td>16.541353</td>\n",
       "    </tr>\n",
       "    <tr>\n",
       "      <th>1</th>\n",
       "      <td>1.0</td>\n",
       "      <td>1.0</td>\n",
       "      <td>1</td>\n",
       "      <td>False</td>\n",
       "      <td>True</td>\n",
       "      <td>True</td>\n",
       "      <td>False</td>\n",
       "      <td>private_room</td>\n",
       "      <td>2</td>\n",
       "      <td>21.14571</td>\n",
       "      <td>-86.84190</td>\n",
       "      <td>28</td>\n",
       "      <td>https://www.airbnb.com/rooms/16492050</td>\n",
       "      <td>16492050</td>\n",
       "      <td>21.052632</td>\n",
       "    </tr>\n",
       "    <tr>\n",
       "      <th>2</th>\n",
       "      <td>1.5</td>\n",
       "      <td>1.0</td>\n",
       "      <td>1</td>\n",
       "      <td>True</td>\n",
       "      <td>True</td>\n",
       "      <td>False</td>\n",
       "      <td>False</td>\n",
       "      <td>private_room</td>\n",
       "      <td>2</td>\n",
       "      <td>21.13119</td>\n",
       "      <td>-86.76394</td>\n",
       "      <td>30</td>\n",
       "      <td>https://www.airbnb.com/rooms/14266451</td>\n",
       "      <td>14266451</td>\n",
       "      <td>22.556391</td>\n",
       "    </tr>\n",
       "    <tr>\n",
       "      <th>3</th>\n",
       "      <td>1.0</td>\n",
       "      <td>2.0</td>\n",
       "      <td>2</td>\n",
       "      <td>True</td>\n",
       "      <td>True</td>\n",
       "      <td>True</td>\n",
       "      <td>False</td>\n",
       "      <td>entire_home</td>\n",
       "      <td>5</td>\n",
       "      <td>21.15737</td>\n",
       "      <td>-86.83975</td>\n",
       "      <td>24</td>\n",
       "      <td>https://www.airbnb.com/rooms/17625889</td>\n",
       "      <td>17625889</td>\n",
       "      <td>18.045113</td>\n",
       "    </tr>\n",
       "    <tr>\n",
       "      <th>4</th>\n",
       "      <td>1.0</td>\n",
       "      <td>1.0</td>\n",
       "      <td>2</td>\n",
       "      <td>True</td>\n",
       "      <td>True</td>\n",
       "      <td>False</td>\n",
       "      <td>False</td>\n",
       "      <td>entire_home</td>\n",
       "      <td>3</td>\n",
       "      <td>21.15327</td>\n",
       "      <td>-86.85548</td>\n",
       "      <td>21</td>\n",
       "      <td>https://www.airbnb.com/rooms/18543147</td>\n",
       "      <td>18543147</td>\n",
       "      <td>15.789474</td>\n",
       "    </tr>\n",
       "  </tbody>\n",
       "</table>\n",
       "</div>"
      ],
      "text/plain": [
       "   bathrooms  bedrooms  num_beds  can_instant_book  is_fully_refundable  \\\n",
       "0        1.0       1.0         1              True                 True   \n",
       "1        1.0       1.0         1             False                 True   \n",
       "2        1.5       1.0         1              True                 True   \n",
       "3        1.0       2.0         2              True                 True   \n",
       "4        1.0       1.0         2              True                 True   \n",
       "\n",
       "   is_superhost  is_new_listing room_type_category  person_capacity       lat  \\\n",
       "0          True           False       private_room                2  21.13566   \n",
       "1          True           False       private_room                2  21.14571   \n",
       "2         False           False       private_room                2  21.13119   \n",
       "3          True           False        entire_home                5  21.15737   \n",
       "4         False           False        entire_home                3  21.15327   \n",
       "\n",
       "        lng  price                                    url  listing_key  \\\n",
       "0 -86.76741     22  https://www.airbnb.com/rooms/20776319     20776319   \n",
       "1 -86.84190     28  https://www.airbnb.com/rooms/16492050     16492050   \n",
       "2 -86.76394     30  https://www.airbnb.com/rooms/14266451     14266451   \n",
       "3 -86.83975     24  https://www.airbnb.com/rooms/17625889     17625889   \n",
       "4 -86.85548     21  https://www.airbnb.com/rooms/18543147     18543147   \n",
       "\n",
       "   price_in_usd  \n",
       "0     16.541353  \n",
       "1     21.052632  \n",
       "2     22.556391  \n",
       "3     18.045113  \n",
       "4     15.789474  "
      ]
     },
     "execution_count": 26,
     "metadata": {},
     "output_type": "execute_result"
    }
   ],
   "source": [
    "import pandas as pd\n",
    "\n",
    "# Importing Data\n",
    "url = \"https://raw.githubusercontent.com/kailu3/think-data/master/content/data/airbnb.csv\"\n",
    "dataset = pandas.read_csv(url)\n",
    "dataset.head(5)"
   ]
  },
  {
   "cell_type": "code",
   "execution_count": null,
   "metadata": {},
   "outputs": [],
   "source": []
  },
  {
   "cell_type": "code",
   "execution_count": null,
   "metadata": {},
   "outputs": [],
   "source": []
  },
  {
   "cell_type": "code",
   "execution_count": null,
   "metadata": {},
   "outputs": [],
   "source": []
  }
 ],
 "metadata": {
  "kernelspec": {
   "display_name": "Python 3",
   "language": "python",
   "name": "python3"
  },
  "language_info": {
   "codemirror_mode": {
    "name": "ipython",
    "version": 3
   },
   "file_extension": ".py",
   "mimetype": "text/x-python",
   "name": "python",
   "nbconvert_exporter": "python",
   "pygments_lexer": "ipython3",
   "version": "3.6.5"
  }
 },
 "nbformat": 4,
 "nbformat_minor": 4
}
